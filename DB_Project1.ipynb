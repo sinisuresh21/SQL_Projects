{
  "nbformat": 4,
  "nbformat_minor": 0,
  "metadata": {
    "anaconda-cloud": {},
    "kernelspec": {
      "display_name": "Python [conda root]",
      "language": "python",
      "name": "conda-root-py"
    },
    "language_info": {
      "codemirror_mode": {
        "name": "ipython",
        "version": 3
      },
      "file_extension": ".py",
      "mimetype": "text/x-python",
      "name": "python",
      "nbconvert_exporter": "python",
      "pygments_lexer": "ipython3",
      "version": "3.5.4"
    },
    "colab": {
      "provenance": []
    }
  },
  "cells": [
    {
      "cell_type": "markdown",
      "metadata": {
        "id": "QKV7uz5YKAYZ"
      },
      "source": [
        "# TP1 - Finding Keys using Functional Dependencies \n",
        "--------------------------\n",
        "\n",
        "In this lab, we are going to learn \n",
        "\n",
        "- how to use Jupyter\n",
        "- how to use SQLite\n",
        "- how to discover keys in relations\n",
        "\n",
        "## How to use Jupyter\n",
        "\n",
        "To execute a cell, click on it, and then use SHIFT+ENTER (this will execute the contents of the cell, and move down to the next one!)\n",
        "\n",
        "To edit a cell, click on it. If the cell uses markdown code, then use ENTER to edit it.\n",
        "\n",
        "See the Help menu for other useful keyboard commands. You can always use the menu bar instead as well.\n"
      ]
    },
    {
      "cell_type": "code",
      "metadata": {
        "colab": {
          "base_uri": "https://localhost:8080/"
        },
        "id": "QpzzXc2PKAYk",
        "outputId": "030b82b6-0887-4847-b7cf-ddf8d82098ef"
      },
      "source": [
        "print(\"Hello world!\")"
      ],
      "execution_count": null,
      "outputs": [
        {
          "output_type": "stream",
          "text": [
            "Hello world!\n"
          ],
          "name": "stdout"
        }
      ]
    },
    {
      "cell_type": "markdown",
      "metadata": {
        "id": "2z4pbz4ZKAYo"
      },
      "source": [
        "Another example:"
      ]
    },
    {
      "cell_type": "code",
      "metadata": {
        "colab": {
          "base_uri": "https://localhost:8080/"
        },
        "id": "fozEfQ2sKAYp",
        "outputId": "becaf893-5062-4431-f31a-b0c2338f4857"
      },
      "source": [
        "for i in range(1,10):\n",
        "    print(i)"
      ],
      "execution_count": null,
      "outputs": [
        {
          "output_type": "stream",
          "text": [
            "1\n",
            "2\n",
            "3\n",
            "4\n",
            "5\n",
            "6\n",
            "7\n",
            "8\n",
            "9\n"
          ],
          "name": "stdout"
        }
      ]
    },
    {
      "cell_type": "markdown",
      "metadata": {
        "id": "sbe4q7mSKAYq"
      },
      "source": [
        "#### Exercise 1\n",
        "\n",
        "Print numbers 1 to 9 in reverse order"
      ]
    },
    {
      "cell_type": "code",
      "metadata": {
        "colab": {
          "base_uri": "https://localhost:8080/"
        },
        "id": "ZaLIC6zeKAYq",
        "outputId": "102acfd6-f29e-4d25-c201-dfe974bc34a1"
      },
      "source": [
        "for i in range(9,0,-1):\n",
        "  print(i)"
      ],
      "execution_count": null,
      "outputs": [
        {
          "output_type": "stream",
          "text": [
            "9\n",
            "8\n",
            "7\n",
            "6\n",
            "5\n",
            "4\n",
            "3\n",
            "2\n",
            "1\n"
          ],
          "name": "stdout"
        }
      ]
    },
    {
      "cell_type": "markdown",
      "metadata": {
        "id": "1DppHkjWKAYr"
      },
      "source": [
        "## How to use SQLite\n",
        "\n",
        "To work with SQL easily in a notebook, we'll load the ipython-sql extension as follows:"
      ]
    },
    {
      "cell_type": "code",
      "metadata": {
        "colab": {
          "base_uri": "https://localhost:8080/",
          "height": 36
        },
        "id": "eGWGn4MdKmSH",
        "outputId": "2633b447-6377-46dd-eec8-ad26840ede29"
      },
      "source": [
        "%load_ext sql\n",
        "%sql sqlite://"
      ],
      "execution_count": null,
      "outputs": [
        {
          "output_type": "execute_result",
          "data": {
            "application/vnd.google.colaboratory.intrinsic+json": {
              "type": "string"
            },
            "text/plain": [
              "'Connected: @None'"
            ]
          },
          "metadata": {
            "tags": []
          },
          "execution_count": 4
        }
      ]
    },
    {
      "cell_type": "markdown",
      "metadata": {
        "id": "D7rt2gyPKAYu"
      },
      "source": [
        "We are going to create a table:"
      ]
    },
    {
      "cell_type": "code",
      "metadata": {
        "colab": {
          "base_uri": "https://localhost:8080/"
        },
        "id": "78uk3plXKAYu",
        "outputId": "8e6aee8a-2208-4dc8-f996-558dbf1c3b97"
      },
      "source": [
        "%%sql DROP TABLE IF EXISTS T;\n",
        "CREATE TABLE T(course VARCHAR, classroom INT, time INT);\n",
        "INSERT INTO T VALUES ('CS 364', 132, 900);\n",
        "INSERT INTO T VALUES ('CS 245', 140, 1000);\n",
        "INSERT INTO T VALUES ('EE 101', 210, 900);"
      ],
      "execution_count": null,
      "outputs": [
        {
          "output_type": "stream",
          "text": [
            " * sqlite://\n",
            "Done.\n",
            "Done.\n",
            "1 rows affected.\n",
            "1 rows affected.\n",
            "1 rows affected.\n"
          ],
          "name": "stdout"
        },
        {
          "output_type": "execute_result",
          "data": {
            "text/plain": [
              "[]"
            ]
          },
          "metadata": {
            "tags": []
          },
          "execution_count": 5
        }
      ]
    },
    {
      "cell_type": "markdown",
      "metadata": {
        "id": "QazMRRtlKAYv"
      },
      "source": [
        "Let's run our first SQL query:"
      ]
    },
    {
      "cell_type": "code",
      "metadata": {
        "colab": {
          "base_uri": "https://localhost:8080/",
          "height": 141
        },
        "id": "4djJfmwqKAYx",
        "outputId": "e782a365-a092-4740-c8be-8d479b2df303"
      },
      "source": [
        "%sql SELECT * FROM T;"
      ],
      "execution_count": null,
      "outputs": [
        {
          "output_type": "stream",
          "text": [
            " * sqlite://\n",
            "Done.\n"
          ],
          "name": "stdout"
        },
        {
          "output_type": "execute_result",
          "data": {
            "text/html": [
              "<table>\n",
              "    <thead>\n",
              "        <tr>\n",
              "            <th>course</th>\n",
              "            <th>classroom</th>\n",
              "            <th>time</th>\n",
              "        </tr>\n",
              "    </thead>\n",
              "    <tbody>\n",
              "        <tr>\n",
              "            <td>CS 364</td>\n",
              "            <td>132</td>\n",
              "            <td>900</td>\n",
              "        </tr>\n",
              "        <tr>\n",
              "            <td>CS 245</td>\n",
              "            <td>140</td>\n",
              "            <td>1000</td>\n",
              "        </tr>\n",
              "        <tr>\n",
              "            <td>EE 101</td>\n",
              "            <td>210</td>\n",
              "            <td>900</td>\n",
              "        </tr>\n",
              "    </tbody>\n",
              "</table>"
            ],
            "text/plain": [
              "[('CS 364', 132, 900), ('CS 245', 140, 1000), ('EE 101', 210, 900)]"
            ]
          },
          "metadata": {
            "tags": []
          },
          "execution_count": 6
        }
      ]
    },
    {
      "cell_type": "markdown",
      "metadata": {
        "id": "h2djahk-KAYy"
      },
      "source": [
        "#### Exercise 2\n",
        "\n",
        "List the name of the courses with time less than 950"
      ]
    },
    {
      "cell_type": "code",
      "metadata": {
        "colab": {
          "base_uri": "https://localhost:8080/",
          "height": 120
        },
        "id": "TrbfggYPKAYy",
        "outputId": "ead6b528-0fbb-413b-cf18-cf3f5fa98d7d"
      },
      "source": [
        "%sql SELECT course from T \\\n",
        "      WHERE time < 950"
      ],
      "execution_count": null,
      "outputs": [
        {
          "output_type": "stream",
          "text": [
            " * sqlite://\n",
            "Done.\n"
          ],
          "name": "stdout"
        },
        {
          "output_type": "execute_result",
          "data": {
            "text/html": [
              "<table>\n",
              "    <thead>\n",
              "        <tr>\n",
              "            <th>course</th>\n",
              "        </tr>\n",
              "    </thead>\n",
              "    <tbody>\n",
              "        <tr>\n",
              "            <td>CS 364</td>\n",
              "        </tr>\n",
              "        <tr>\n",
              "            <td>EE 101</td>\n",
              "        </tr>\n",
              "    </tbody>\n",
              "</table>"
            ],
            "text/plain": [
              "[('CS 364',), ('EE 101',)]"
            ]
          },
          "metadata": {
            "tags": []
          },
          "execution_count": 7
        }
      ]
    },
    {
      "cell_type": "markdown",
      "metadata": {
        "id": "0gzTudjvKAYz"
      },
      "source": [
        "## How to discover keys in relations\n",
        "\n",
        "Now, we are going to work with functional dependencies, keys and closures. Our final goal is going to build a method to find keys in a relation.\n",
        "\n",
        "### Functional Dependencies\n",
        "\n",
        "Recall that given a set of attributes  $\\{A_1, \\dots, A_n\\}$ and a set of FDs $\\Gamma$\n",
        "\n",
        "The closure, denoted $\\{A_1, \\dots, A_n\\}^+$, is defined to be the largest set of attributes B s.t. $$A_1,\\dots,A_n \\rightarrow B \\text{ using } \\Gamma.$$\n",
        "\n",
        "We're going to use some functions to compute the closure of a set of attributes and other such operations (_from CS145 Stanford_)"
      ]
    },
    {
      "cell_type": "code",
      "metadata": {
        "id": "npIrT8iaKAY0"
      },
      "source": [
        "# Source code\n",
        "\n",
        "def to_set(x):\n",
        "  \"\"\"Convert input int, string, list, tuple, set -> set\"\"\"\n",
        "  if type(x) == set:\n",
        "    return x\n",
        "  elif type(x) in [list, set]:\n",
        "    return set(x)\n",
        "  elif type(x) in [str, int]:\n",
        "    return set([x])\n",
        "  else:\n",
        "    raise Exception(\"Unrecognized type.\")\n",
        "\n",
        "def fd_to_str(lr_tuple):\n",
        "    lhs = lr_tuple[0]\n",
        "    rhs = lr_tuple[1]\n",
        "    return \",\".join(to_set(lhs)) + \" -> \" + \",\".join(to_set(rhs))\n",
        "\n",
        "def fds_to_str(fds): return \"\\n\\t\".join(map(fd_to_str, fds))\n",
        "\n",
        "def set_to_str(x): return \"{\" + \",\".join(x) + \"}\"\n",
        "\n",
        "def fd_applies_to(fd, x): \n",
        "  lhs, rhs = map(to_set, fd)\n",
        "  return lhs.issubset(x)\n",
        "\n",
        "def print_setup(A, fds):\n",
        "  print(\"Attributes = \" + set_to_str(A))\n",
        "  print(\"FDs = \\t\" + fds_to_str(fds))\n",
        "\n",
        "def print_fds(fds):\n",
        "  print(\"FDs = \\t\" + fds_to_str(fds))    \n"
      ],
      "execution_count": null,
      "outputs": []
    },
    {
      "cell_type": "markdown",
      "metadata": {
        "id": "m2VkHT9lKAY2"
      },
      "source": [
        "Now, let's look at a concrete example. For example, the code for\n",
        "\n",
        "attributes = { name, category, color, department, price}\n",
        "\n",
        "and functional dependencies:\n",
        "\n",
        "name $\\rightarrow$ color\n",
        "\n",
        "category $\\rightarrow$ department\n",
        "\n",
        "color, category $\\rightarrow$ price\n",
        "\n",
        "is the following:"
      ]
    },
    {
      "cell_type": "code",
      "metadata": {
        "colab": {
          "base_uri": "https://localhost:8080/"
        },
        "id": "MwoW3srSKAY3",
        "outputId": "844f7a37-48e2-4bd0-9c21-883f08b3d730"
      },
      "source": [
        "attributes  = set([\"name\", \"category\", \"color\", \"department\", \"price\"]) # These are the attribute set.\n",
        "fds = [(set([\"name\"]),\"color\"),\n",
        "         (set([\"category\"]), \"department\"),\n",
        "         (set([\"color\", \"category\"]), \"price\")]\n",
        "\n",
        "print_setup(attributes, fds)"
      ],
      "execution_count": null,
      "outputs": [
        {
          "output_type": "stream",
          "text": [
            "Attributes = {color,category,name,price,department}\n",
            "FDs = \tname -> color\n",
            "\tcategory -> department\n",
            "\tcategory,color -> price\n"
          ],
          "name": "stdout"
        }
      ]
    },
    {
      "cell_type": "markdown",
      "metadata": {
        "id": "Ejy9MeNiKAY4"
      },
      "source": [
        "### Closure of a set of Attributes\n",
        "\n",
        "Let's implement the algorithm for obtaining the closure of a set of attributes:"
      ]
    },
    {
      "cell_type": "code",
      "metadata": {
        "id": "dofTn75iKAY4"
      },
      "source": [
        "def compute_closure(x, fds, verbose=False):\n",
        "    bChanged = True        # We will repeat until there are no changes.\n",
        "    x_ret    = x.copy()    # Make a copy of the input to hold x^{+}\n",
        "    while bChanged:\n",
        "        bChanged = False   # Must change on each iteration\n",
        "        for fd in fds:     # loop through all the FDs.\n",
        "            (lhs, rhs) = map(to_set, fd) # recall: lhs -> rhs\n",
        "            if fd_applies_to(fd, x_ret) and not rhs.issubset(x_ret):\n",
        "                x_ret = x_ret.union(rhs)\n",
        "                if verbose:\n",
        "                    print(\"Using FD \" + fd_to_str(fd))\n",
        "                    print(\"\\t Updated x to \" + set_to_str(x_ret))\n",
        "                bChanged = True\n",
        "    return x_ret"
      ],
      "execution_count": null,
      "outputs": []
    },
    {
      "cell_type": "markdown",
      "metadata": {
        "id": "9dfbGae5KAY5"
      },
      "source": [
        "As an example, let's compute the closure for the attribute \"name\":"
      ]
    },
    {
      "cell_type": "code",
      "metadata": {
        "colab": {
          "base_uri": "https://localhost:8080/"
        },
        "id": "cF5hRps_KAY5",
        "outputId": "69e05883-8f74-4404-bc60-1c201c6f4e18"
      },
      "source": [
        "A = set([\"name\"])\n",
        "compute_closure(A,fds, True)"
      ],
      "execution_count": null,
      "outputs": [
        {
          "output_type": "stream",
          "text": [
            "Using FD name -> color\n",
            "\t Updated x to {name,color}\n"
          ],
          "name": "stdout"
        },
        {
          "output_type": "execute_result",
          "data": {
            "text/plain": [
              "{'color', 'name'}"
            ]
          },
          "metadata": {
            "tags": []
          },
          "execution_count": 11
        }
      ]
    },
    {
      "cell_type": "markdown",
      "metadata": {
        "id": "DKCcXDoNKAY6"
      },
      "source": [
        "#### Exercise 3\n",
        "\n",
        "Is the attribute \"name\" a superkey for this relation? Why?"
      ]
    },
    {
      "cell_type": "raw",
      "metadata": {
        "id": "obrdyM0zKAY6"
      },
      "source": [
        "Answer: No, \"name\" is not a superkey for this relation because superkey is a set of all attributes that uniquely identifies a row. But here is does not satify this definition of a super key."
      ]
    },
    {
      "cell_type": "markdown",
      "metadata": {
        "id": "gJG_N196KAY6"
      },
      "source": [
        "### Keys and Superkeys\n",
        "\n",
        "Next, we'll add some new functions now for finding superkeys and keys.  Recall:\n",
        "* A _superkey_ for a relation $R(B_1,\\dots,B_m)$ is a set of attributes $\\{A_1,\\dots,A_n\\}$ s.t.\n",
        "$$ \\{A_1,\\dots,A_n\\} \\rightarrow B_{j} \\text{ for all } j=1,\\dots m$$\n",
        "* A _key_ is a minimal (setwise) _superkey_\n",
        "\n",
        "The algorithm to determine if a set of attributes $A$ is a superkey for $X$ is actually very simple (check if $A^+=X$):"
      ]
    },
    {
      "cell_type": "code",
      "metadata": {
        "id": "Nwqdz_osKAY6"
      },
      "source": [
        "def is_superkey_for(A, X, fds, verbose=False): \n",
        "    return X.issubset(compute_closure(A, fds, verbose=verbose))"
      ],
      "execution_count": null,
      "outputs": []
    },
    {
      "cell_type": "markdown",
      "metadata": {
        "id": "2H-XMEoaKAY7"
      },
      "source": [
        "Is \"name\" a superkey of the relation?"
      ]
    },
    {
      "cell_type": "code",
      "metadata": {
        "colab": {
          "base_uri": "https://localhost:8080/"
        },
        "id": "3NrzmIvDKAY7",
        "outputId": "96580899-ed22-41e7-c4b1-99c074d7f04d"
      },
      "source": [
        "is_superkey_for(A, attributes, fds)"
      ],
      "execution_count": null,
      "outputs": [
        {
          "output_type": "execute_result",
          "data": {
            "text/plain": [
              "False"
            ]
          },
          "metadata": {
            "tags": []
          },
          "execution_count": 13
        }
      ]
    },
    {
      "cell_type": "markdown",
      "metadata": {
        "id": "LNkH4x5mKAY7"
      },
      "source": [
        "Then, to check if $A$ is a key for $X$, we just confirm that:\n",
        "* (a) it is a superkey\n",
        "* (b) there are no smaller superkeys (_Note that we only need to check for superkeys of one size smaller_)"
      ]
    },
    {
      "cell_type": "code",
      "metadata": {
        "id": "Lhs-JFfzKAY8"
      },
      "source": [
        "import itertools\n",
        "def is_key_for(A, X, fds, verbose=False):\n",
        "    subsets = set(itertools.combinations(A, len(A)-1))\n",
        "    return is_superkey_for(A, X, fds) and \\\n",
        "        all([not is_superkey_for(set(SA), X, fds) for SA in subsets])"
      ],
      "execution_count": null,
      "outputs": []
    },
    {
      "cell_type": "markdown",
      "metadata": {
        "id": "Q2boVzXYKAY8"
      },
      "source": [
        "Now, let's look at another example:\n",
        "\n",
        "attributes = { cru, type, client, remise}\n",
        "\n",
        "and functional dependencies:\n",
        "\n",
        "cru $\\rightarrow$ type\n",
        "\n",
        "type, client $\\rightarrow$ remise\n",
        "\n",
        "#### Exercise 4\n",
        "\n",
        "Is \"cru\" and \"client\" a key of the relation? Why?"
      ]
    },
    {
      "cell_type": "code",
      "metadata": {
        "colab": {
          "base_uri": "https://localhost:8080/"
        },
        "id": "8dWdK6P8KAY9",
        "outputId": "351884c6-5d3d-4121-bd4e-38cd7369e2f1"
      },
      "source": [
        "attributes0 = set(['cru', 'type', 'client', 'remise'])\n",
        "fds0 = [(set(['cru']), 'type'), \n",
        "       (set(['type', 'client']), 'remise')]\n",
        "A = set(['cru', 'client'])\n",
        "is_key_for(A, attributes0, fds0)"
      ],
      "execution_count": null,
      "outputs": [
        {
          "output_type": "execute_result",
          "data": {
            "text/plain": [
              "True"
            ]
          },
          "metadata": {
            "tags": []
          },
          "execution_count": 15
        }
      ]
    },
    {
      "cell_type": "markdown",
      "metadata": {
        "id": "NeSeLoUtKAY_"
      },
      "source": [
        "Because it's a superkey and it is minimal. "
      ]
    },
    {
      "cell_type": "markdown",
      "metadata": {
        "id": "I6mSPKdHKAY_"
      },
      "source": [
        "### Closure of a set of functional dependencies\n",
        "\n",
        "The algorithm to find the closure of a set of functional dependencies is the following:"
      ]
    },
    {
      "cell_type": "code",
      "metadata": {
        "id": "EDyg0qToKAZA"
      },
      "source": [
        "import itertools\n",
        "def findsubsets(S,m):\n",
        "    return set(itertools.combinations(S, m))\n",
        "def closure(X, fds, verbose=False):\n",
        "    c = []\n",
        "    for size in range(1, len(X)):\n",
        "        subsets = findsubsets(X, size) \n",
        "        for SA in subsets:      # loop through all the subsets.\n",
        "            cl = compute_closure(set(SA), fds, verbose)\n",
        "            if len(cl.difference(SA)) > 0: \n",
        "                c.extend([(set(SA), cl.difference(SA))])\n",
        "    return c"
      ],
      "execution_count": null,
      "outputs": []
    },
    {
      "cell_type": "markdown",
      "metadata": {
        "id": "SWLG8LuCKAZA"
      },
      "source": [
        "Let's see some examples of how to use it:"
      ]
    },
    {
      "cell_type": "code",
      "metadata": {
        "colab": {
          "base_uri": "https://localhost:8080/"
        },
        "id": "wozm_Bk2KAZB",
        "outputId": "57b5b8c8-9470-4fd9-d069-edec97f4fd10"
      },
      "source": [
        "attributes1 = set(['A', 'B', 'C', 'D'])\n",
        "fds1 = [(set(['A', 'B']), 'C'),\n",
        "     (set(['A', 'D']), 'B'),\n",
        "     (set(['B']), 'D')]\n",
        "print_fds(closure(attributes1, fds1))\n"
      ],
      "execution_count": null,
      "outputs": [
        {
          "output_type": "stream",
          "text": [
            "FDs = \tB -> D\n",
            "\tA,D -> C,B\n",
            "\tA,B -> C,D\n",
            "\tC,B -> D\n",
            "\tA,B,D -> C\n",
            "\tA,B,C -> D\n",
            "\tA,C,D -> B\n"
          ],
          "name": "stdout"
        }
      ]
    },
    {
      "cell_type": "code",
      "metadata": {
        "colab": {
          "base_uri": "https://localhost:8080/"
        },
        "id": "4Bq1R84o8UZ-",
        "outputId": "5861f8c4-d917-40e4-d8b0-fd892d780e0f"
      },
      "source": [
        "attributes4 = set(['A', 'B', 'C', 'D','E', 'F', 'G', 'H'])\n",
        "fds4 = [(set(['D']), 'B'),\n",
        "        (set(['B', 'E']), 'C'),\n",
        "     (set(['D', 'A']), 'D'),\n",
        "     (set(['C']), 'F'),\n",
        "     (set(['D', 'E']), 'F'),\n",
        "     (set(['F', 'G', 'H']), 'C'),\n",
        "     (set(['A']), 'B'),\n",
        "     (set(['A', 'D']), 'G')]\n",
        "\n",
        "print_fds(closure(attributes4, fds4))\n"
      ],
      "execution_count": null,
      "outputs": [
        {
          "output_type": "stream",
          "text": [
            "FDs = \tD -> B\n",
            "\tA -> B\n",
            "\tC -> F\n",
            "\tD,F -> B\n",
            "\tC,H -> F\n",
            "\tC,E -> F\n",
            "\tC,D -> B,F\n",
            "\tA,C -> B,F\n",
            "\tE,D -> C,B,F\n",
            "\tA,D -> G,B\n",
            "\tB,E -> C,F\n",
            "\tG,D -> B\n",
            "\tG,C -> F\n",
            "\tA,H -> B\n",
            "\tA,F -> B\n",
            "\tG,A -> B\n",
            "\tC,B -> F\n",
            "\tH,D -> B\n",
            "\tA,E -> C,B,F\n",
            "\tC,B,E -> F\n",
            "\tC,H,D -> B,F\n",
            "\tB,E,D -> C,F\n",
            "\tG,C,E -> F\n",
            "\tC,E,D -> B,F\n",
            "\tG,A,C -> B,F\n",
            "\tA,H,E -> B,C,F\n",
            "\tE,D,F -> C,B\n",
            "\tG,C,H -> F\n",
            "\tG,A,H -> B\n",
            "\tC,A,E -> F,B\n",
            "\tG,E,D -> C,B,F\n",
            "\tG,C,D -> B,F\n",
            "\tA,H,D -> G,B\n",
            "\tC,H,B -> F\n",
            "\tG,C,B -> F\n",
            "\tH,D,F -> B\n",
            "\tG,A,E -> B,C,F\n",
            "\tC,H,E -> F\n",
            "\tG,H,D -> B\n",
            "\tA,C,D -> G,B,F\n",
            "\tA,E,D -> G,B,C,F\n",
            "\tB,H,E -> C,F\n",
            "\tA,H,F -> B\n",
            "\tA,H,C -> B,F\n",
            "\tA,D,F -> G,B\n",
            "\tG,B,E -> C,F\n",
            "\tA,B,C -> F\n",
            "\tH,E,D -> C,B,F\n",
            "\tG,A,F -> B\n",
            "\tA,B,D -> G\n",
            "\tC,D,F -> B\n",
            "\tG,H,F -> C\n",
            "\tA,C,F -> B\n",
            "\tA,E,F -> B,C\n",
            "\tG,D,F -> B\n",
            "\tB,E,F -> C\n",
            "\tC,B,D -> F\n",
            "\tA,B,E -> C,F\n",
            "\tG,A,D -> B\n",
            "\tC,H,D,F -> B\n",
            "\tG,E,D,F -> C,B\n",
            "\tB,A,H,C -> F\n",
            "\tG,A,E,F -> C,B\n",
            "\tG,C,B,E -> F\n",
            "\tB,H,E,F -> C\n",
            "\tH,E,D,F -> C,B\n",
            "\tA,B,E,D -> G,C,F\n",
            "\tC,A,E,F -> B\n",
            "\tG,A,H,D -> B\n",
            "\tG,A,H,C -> B,F\n",
            "\tG,C,E,D -> B,F\n",
            "\tA,B,D,F -> G\n",
            "\tG,C,H,E -> F\n",
            "\tC,G,A,E -> B,F\n",
            "\tG,C,H,D -> B,F\n",
            "\tG,A,E,D -> C,B,F\n",
            "\tC,H,E,D -> B,F\n",
            "\tB,A,H,E -> C,F\n",
            "\tB,H,E,D -> C,F\n",
            "\tA,B,E,F -> C\n",
            "\tG,H,E,F -> C\n",
            "\tG,A,H,E -> C,B,F\n",
            "\tG,A,H,F -> C,B\n",
            "\tC,H,B,D -> F\n",
            "\tG,B,E,F -> C\n",
            "\tC,E,D,F -> B\n",
            "\tC,A,B,E -> F\n",
            "\tC,B,E,D -> F\n",
            "\tG,A,C,F -> B\n",
            "\tB,E,D,F -> C\n",
            "\tA,E,D,F -> G,C,B\n",
            "\tG,H,B,F -> C\n",
            "\tG,H,E,D -> C,B,F\n",
            "\tG,H,D,F -> C,B\n",
            "\tG,A,D,F -> B\n",
            "\tG,C,H,B -> F\n",
            "\tA,H,C,F -> B\n",
            "\tA,H,E,F -> C,B\n",
            "\tG,B,E,D -> C,F\n",
            "\tG,A,B,E -> C,F\n",
            "\tB,C,H,E -> F\n",
            "\tG,H,E,B -> C,F\n",
            "\tG,C,D,F -> B\n",
            "\tG,A,C,D -> B,F\n",
            "\tA,H,D,F -> G,C,B\n",
            "\tG,C,B,D -> F\n",
            "\tA,H,B,D -> G\n",
            "\tA,C,D,F -> G,B\n",
            "\tA,B,C,D -> G,F\n",
            "\tC,A,E,D -> G,B,F\n",
            "\tC,A,H,E -> B,F\n",
            "\tG,A,B,C -> F\n",
            "\tA,H,C,D -> G,B,F\n",
            "\tA,H,E,D -> G,C,B,F\n",
            "\tG,E,H,B,F -> C\n",
            "\tA,E,H,B,D -> G,C,F\n",
            "\tG,A,E,H,C -> B,F\n",
            "\tG,A,H,C,B -> F\n",
            "\tG,A,E,B,D -> C,F\n",
            "\tG,A,E,D,F -> C,B\n",
            "\tG,E,H,D,F -> C,B\n",
            "\tG,E,H,B,D -> C,F\n",
            "\tG,E,C,B,D -> F\n",
            "\tE,H,C,D,F -> B\n",
            "\tG,A,E,C,F -> B\n",
            "\tG,H,B,D,F -> C\n",
            "\tA,E,H,B,F -> C\n",
            "\tG,E,H,C,D -> B,F\n",
            "\tA,C,B,D,F -> G\n",
            "\tG,A,C,D,F -> B\n",
            "\tG,E,B,D,F -> C\n",
            "\tG,A,E,B,F -> C\n",
            "\tG,A,E,C,B -> F\n",
            "\tA,E,C,B,D -> G,F\n",
            "\tA,H,C,D,F -> G,B\n",
            "\tA,E,C,D,F -> G,B\n",
            "\tE,H,B,D,F -> C\n",
            "\tA,E,H,D,F -> G,C,B\n",
            "\tG,A,H,D,F -> C,B\n",
            "\tA,H,C,B,D -> G,F\n",
            "\tG,A,E,C,D -> B,F\n",
            "\tG,A,E,H,B -> C,F\n",
            "\tA,E,B,D,F -> G,C\n",
            "\tA,E,H,C,D -> G,B,F\n",
            "\tG,H,C,B,D -> F\n",
            "\tG,A,E,H,F -> C,B\n",
            "\tG,A,H,C,D -> B,F\n",
            "\tA,E,H,C,B -> F\n",
            "\tG,E,C,D,F -> B\n",
            "\tA,H,B,D,F -> G,C\n",
            "\tG,H,C,D,F -> B\n",
            "\tA,E,H,C,F -> B\n",
            "\tE,H,C,B,D -> F\n",
            "\tG,A,C,B,D -> F\n",
            "\tG,E,H,C,B -> F\n",
            "\tG,A,E,H,D -> C,B,F\n",
            "\tG,A,H,C,F -> B\n",
            "\tG,A,H,B,F -> C\n",
            "\tA,E,H,B,D,F -> G,C\n",
            "\tG,E,H,B,D,F -> C\n",
            "\tA,H,C,B,D,F -> G\n",
            "\tG,A,E,C,D,F -> B\n",
            "\tG,A,E,H,C,F -> B\n",
            "\tG,E,H,C,D,F -> B\n",
            "\tG,A,E,H,C,D -> B,F\n",
            "\tG,A,E,H,B,D -> C,F\n",
            "\tA,E,H,C,B,D -> G,F\n",
            "\tA,E,C,B,D,F -> G\n",
            "\tG,A,E,C,B,D -> F\n",
            "\tG,A,E,H,B,F -> C\n",
            "\tG,A,H,C,D,F -> B\n",
            "\tG,A,H,C,B,D -> F\n",
            "\tG,A,E,H,C,B -> F\n",
            "\tG,A,E,H,D,F -> C,B\n",
            "\tA,E,H,C,D,F -> G,B\n",
            "\tG,A,H,B,D,F -> C\n",
            "\tG,A,E,B,D,F -> C\n",
            "\tG,E,H,C,B,D -> F\n",
            "\tA,E,H,C,B,D,F -> G\n",
            "\tG,A,E,H,C,D,F -> B\n",
            "\tG,A,E,H,C,B,D -> F\n",
            "\tG,A,E,H,B,D,F -> C\n"
          ],
          "name": "stdout"
        }
      ]
    },
    {
      "cell_type": "code",
      "metadata": {
        "colab": {
          "base_uri": "https://localhost:8080/"
        },
        "id": "qmTnNXQLKAZC",
        "outputId": "98cc9046-b6e2-40aa-cd17-1f6f871674b3"
      },
      "source": [
        "attributes2 = set (['CRU', 'TYPE', 'CLIENT', 'REMISE'])\n",
        "fds2 = [(set(['CRU']), 'TYPE'),\n",
        "     (set(['TYPE', 'CLIENT']), 'REMISE')]\n",
        "print_fds(closure(attributes2, fds2))"
      ],
      "execution_count": null,
      "outputs": [
        {
          "output_type": "stream",
          "text": [
            "FDs = \tCRU -> TYPE\n",
            "\tCRU,CLIENT -> REMISE,TYPE\n",
            "\tCLIENT,TYPE -> REMISE\n",
            "\tCRU,REMISE -> TYPE\n",
            "\tCRU,REMISE,CLIENT -> TYPE\n",
            "\tCRU,CLIENT,TYPE -> REMISE\n"
          ],
          "name": "stdout"
        }
      ]
    },
    {
      "cell_type": "code",
      "metadata": {
        "colab": {
          "base_uri": "https://localhost:8080/"
        },
        "id": "cxWHOH2eKAZC",
        "outputId": "cada6b8b-b908-49e6-a50f-adca86a082d7"
      },
      "source": [
        "attributes3 = set( ['N VEH', 'TYPE', 'COULEUR', 'MARQUE', 'PUISSANCE'])\n",
        "fds3 = [(set(['N VEH']), 'TYPE'), \n",
        "      (set(['N VEH']), 'COULEUR'),\n",
        "      (set(['TYPE']), 'MARQUE'),\n",
        "      (set(['TYPE']), 'PUISSANCE')]\n",
        "print_fds(closure(attributes3,fds3))"
      ],
      "execution_count": null,
      "outputs": [
        {
          "output_type": "stream",
          "text": [
            "FDs = \tTYPE -> MARQUE,PUISSANCE\n",
            "\tN VEH -> COULEUR,MARQUE,PUISSANCE,TYPE\n",
            "\tCOULEUR,TYPE -> MARQUE,PUISSANCE\n",
            "\tN VEH,TYPE -> COULEUR,MARQUE,PUISSANCE\n",
            "\tMARQUE,TYPE -> PUISSANCE\n",
            "\tN VEH,MARQUE -> COULEUR,PUISSANCE,TYPE\n",
            "\tN VEH,PUISSANCE -> COULEUR,MARQUE,TYPE\n",
            "\tPUISSANCE,TYPE -> MARQUE\n",
            "\tCOULEUR,N VEH -> MARQUE,PUISSANCE,TYPE\n",
            "\tCOULEUR,MARQUE,N VEH -> PUISSANCE,TYPE\n",
            "\tN VEH,PUISSANCE,TYPE -> COULEUR,MARQUE\n",
            "\tCOULEUR,PUISSANCE,N VEH -> MARQUE,TYPE\n",
            "\tCOULEUR,N VEH,TYPE -> MARQUE,PUISSANCE\n",
            "\tCOULEUR,MARQUE,TYPE -> PUISSANCE\n",
            "\tN VEH,MARQUE,PUISSANCE -> COULEUR,TYPE\n",
            "\tN VEH,MARQUE,TYPE -> COULEUR,PUISSANCE\n",
            "\tCOULEUR,PUISSANCE,TYPE -> MARQUE\n",
            "\tCOULEUR,MARQUE,PUISSANCE,N VEH -> TYPE\n",
            "\tN VEH,MARQUE,PUISSANCE,TYPE -> COULEUR\n",
            "\tCOULEUR,N VEH,PUISSANCE,TYPE -> MARQUE\n",
            "\tCOULEUR,N VEH,MARQUE,TYPE -> PUISSANCE\n"
          ],
          "name": "stdout"
        }
      ]
    },
    {
      "cell_type": "markdown",
      "metadata": {
        "id": "ExjDmTsKKAZC"
      },
      "source": [
        "Now, let's write a method to find superkeys of the relations:\n"
      ]
    },
    {
      "cell_type": "code",
      "metadata": {
        "id": "SErG8hbNKAZC"
      },
      "source": [
        "def superkeys(X, fds, verbose=False):\n",
        "    c = []\n",
        "    for size in range(1, len(X)):\n",
        "        subsets = findsubsets(X, size)\n",
        "        for SA in subsets:\n",
        "            cl = compute_closure(set(SA), fds, verbose)\n",
        "            if cl == X and len(cl.difference(SA)) > 0: ## cl = X\n",
        "                c.extend([SA])\n",
        "    return c"
      ],
      "execution_count": null,
      "outputs": []
    },
    {
      "cell_type": "code",
      "metadata": {
        "colab": {
          "base_uri": "https://localhost:8080/"
        },
        "id": "Y3HbR9KHKAZD",
        "outputId": "273558ee-9057-4416-c43e-b22cc10bbed1"
      },
      "source": [
        "superkeys(attributes1, fds1)\n"
      ],
      "execution_count": null,
      "outputs": [
        {
          "output_type": "execute_result",
          "data": {
            "text/plain": [
              "[('B', 'A'), ('D', 'A'), ('D', 'C', 'A'), ('C', 'B', 'A'), ('D', 'B', 'A')]"
            ]
          },
          "metadata": {
            "tags": []
          },
          "execution_count": 21
        }
      ]
    },
    {
      "cell_type": "markdown",
      "metadata": {
        "id": "bule-TODKAZD"
      },
      "source": [
        "Let's see some examples:"
      ]
    },
    {
      "cell_type": "code",
      "metadata": {
        "colab": {
          "base_uri": "https://localhost:8080/"
        },
        "id": "yPwcAB3kKAZE",
        "outputId": "de1ee02a-6f51-428f-b601-c35aa4c151d2"
      },
      "source": [
        "superkeys(attributes2, fds2)\n"
      ],
      "execution_count": null,
      "outputs": [
        {
          "output_type": "execute_result",
          "data": {
            "text/plain": [
              "[('CRU', 'CLIENT'), ('REMISE', 'CRU', 'CLIENT'), ('TYPE', 'CRU', 'CLIENT')]"
            ]
          },
          "metadata": {
            "tags": []
          },
          "execution_count": 22
        }
      ]
    },
    {
      "cell_type": "code",
      "metadata": {
        "colab": {
          "base_uri": "https://localhost:8080/"
        },
        "id": "G3qiRymUKAZE",
        "outputId": "fe03edf9-33a6-446a-b1a0-9f6662b7e931"
      },
      "source": [
        "superkeys(attributes3, fds3)"
      ],
      "execution_count": null,
      "outputs": [
        {
          "output_type": "execute_result",
          "data": {
            "text/plain": [
              "[('N VEH',),\n",
              " ('N VEH', 'COULEUR'),\n",
              " ('N VEH', 'PUISSANCE'),\n",
              " ('N VEH', 'TYPE'),\n",
              " ('N VEH', 'MARQUE'),\n",
              " ('N VEH', 'MARQUE', 'PUISSANCE'),\n",
              " ('N VEH', 'COULEUR', 'PUISSANCE'),\n",
              " ('N VEH', 'MARQUE', 'COULEUR'),\n",
              " ('N VEH', 'COULEUR', 'TYPE'),\n",
              " ('N VEH', 'TYPE', 'PUISSANCE'),\n",
              " ('N VEH', 'MARQUE', 'TYPE'),\n",
              " ('N VEH', 'MARQUE', 'COULEUR', 'TYPE'),\n",
              " ('N VEH', 'COULEUR', 'TYPE', 'PUISSANCE'),\n",
              " ('N VEH', 'MARQUE', 'TYPE', 'PUISSANCE'),\n",
              " ('N VEH', 'MARQUE', 'COULEUR', 'PUISSANCE')]"
            ]
          },
          "metadata": {
            "tags": []
          },
          "execution_count": 23
        }
      ]
    },
    {
      "cell_type": "markdown",
      "metadata": {
        "id": "ejctwqUoKAZE"
      },
      "source": [
        "#### Exercise 5\n",
        "\n",
        "Implement a `keys` method to find keys of a relation.\n",
        "\n",
        "**Note**: If there exist multiple keys of a relation, the `keys` method should return at least one of them."
      ]
    },
    {
      "cell_type": "code",
      "metadata": {
        "id": "DRFSvjxUKAZF"
      },
      "source": [
        "def keys(X, fds, verbose=False):\n",
        "  k = []\n",
        "  c = []\n",
        "  c = superkeys(X, fds)\n",
        "  # print (c)\n",
        "  for size in range(1, len(X)):\n",
        "        subsets = findsubsets(X, size)\n",
        "        for SA in subsets:\n",
        "            # print(SA)\n",
        "            cl = compute_closure(set(SA), fds, verbose)\n",
        "            if cl == X and k not in c and len(cl.difference(SA)) > 0: \n",
        "            # and SA not in superkeys(X, fds): ## cl = X\n",
        "                k.extend([SA])\n",
        "  return k\n"
      ],
      "execution_count": null,
      "outputs": []
    },
    {
      "cell_type": "markdown",
      "metadata": {
        "id": "t1WwZcYhKAZF"
      },
      "source": [
        "Test it "
      ]
    },
    {
      "cell_type": "code",
      "metadata": {
        "id": "i09NOSOHKAZG",
        "outputId": "b0886445-0146-4bd6-8cc3-f2bedfbee832"
      },
      "source": [
        "keys(attributes1, fds1)"
      ],
      "execution_count": null,
      "outputs": [
        {
          "output_type": "execute_result",
          "data": {
            "text/plain": [
              "{'A', 'B'}"
            ]
          },
          "metadata": {
            "tags": []
          },
          "execution_count": 25
        }
      ]
    },
    {
      "cell_type": "code",
      "metadata": {
        "id": "hwe0ri6qKAZG",
        "outputId": "bd0aaca0-5e78-4737-f830-65bcfd38123b"
      },
      "source": [
        "keys(attributes2, fds2)"
      ],
      "execution_count": null,
      "outputs": [
        {
          "output_type": "execute_result",
          "data": {
            "text/plain": [
              "{'CLIENT', 'CRU'}"
            ]
          },
          "metadata": {
            "tags": []
          },
          "execution_count": 26
        }
      ]
    },
    {
      "cell_type": "code",
      "metadata": {
        "id": "XksMGWMCKAZH",
        "outputId": "9b2e9cf4-c0e4-4373-d8d9-fa4967c661df"
      },
      "source": [
        "keys(attributes3, fds3)"
      ],
      "execution_count": null,
      "outputs": [
        {
          "output_type": "execute_result",
          "data": {
            "text/plain": [
              "{'N VEH'}"
            ]
          },
          "metadata": {
            "tags": []
          },
          "execution_count": 27
        }
      ]
    },
    {
      "cell_type": "code",
      "metadata": {
        "id": "K5rcrj0-KAZI"
      },
      "source": [],
      "execution_count": null,
      "outputs": []
    }
  ]
}